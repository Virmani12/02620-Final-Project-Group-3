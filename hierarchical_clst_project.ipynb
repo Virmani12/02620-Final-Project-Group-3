{
 "cells": [
  {
   "cell_type": "code",
   "execution_count": 3,
   "id": "61fa4297",
   "metadata": {},
   "outputs": [],
   "source": [
    "import numpy as np\n",
    "import pandas as pd\n",
    "import matplotlib.pyplot as plt"
   ]
  },
  {
   "cell_type": "code",
   "execution_count": 4,
   "id": "f3706555",
   "metadata": {},
   "outputs": [],
   "source": [
    "#meta = pd.read_csv('EyeGEx_meta_combined_inferior_retina_summary_deidentified_geo_ids.csv')\n",
    "gct_full = pd.read_table('EyeGEx_retina.counts.matrix.gct', header = 2,delim_whitespace=True)"
   ]
  },
  {
   "cell_type": "code",
   "execution_count": null,
   "id": "8f9d0d5f",
   "metadata": {},
   "outputs": [],
   "source": [
    "gct_full.head()"
   ]
  },
  {
   "cell_type": "code",
   "execution_count": 5,
   "id": "6bba53bd",
   "metadata": {},
   "outputs": [
    {
     "data": {
      "text/plain": [
       "(58051, 455)"
      ]
     },
     "execution_count": 5,
     "metadata": {},
     "output_type": "execute_result"
    }
   ],
   "source": [
    "gct_full.shape"
   ]
  },
  {
   "cell_type": "code",
   "execution_count": 6,
   "id": "3180f5bc",
   "metadata": {},
   "outputs": [
    {
     "data": {
      "text/html": [
       "<div>\n",
       "<style scoped>\n",
       "    .dataframe tbody tr th:only-of-type {\n",
       "        vertical-align: middle;\n",
       "    }\n",
       "\n",
       "    .dataframe tbody tr th {\n",
       "        vertical-align: top;\n",
       "    }\n",
       "\n",
       "    .dataframe thead th {\n",
       "        text-align: right;\n",
       "    }\n",
       "</style>\n",
       "<table border=\"1\" class=\"dataframe\">\n",
       "  <thead>\n",
       "    <tr style=\"text-align: right;\">\n",
       "      <th></th>\n",
       "      <th>100_2</th>\n",
       "      <th>101_3</th>\n",
       "      <th>102_2</th>\n",
       "      <th>103_3</th>\n",
       "      <th>104_2</th>\n",
       "      <th>105_2</th>\n",
       "      <th>106_4</th>\n",
       "      <th>107_4</th>\n",
       "      <th>109_1</th>\n",
       "      <th>11_4</th>\n",
       "      <th>...</th>\n",
       "      <th>90_2</th>\n",
       "      <th>91_2</th>\n",
       "      <th>92_3</th>\n",
       "      <th>93_2</th>\n",
       "      <th>94_4</th>\n",
       "      <th>95_4</th>\n",
       "      <th>96_3</th>\n",
       "      <th>97_2</th>\n",
       "      <th>98_3</th>\n",
       "      <th>99_1</th>\n",
       "    </tr>\n",
       "  </thead>\n",
       "  <tbody>\n",
       "    <tr>\n",
       "      <th>0</th>\n",
       "      <td>225.00</td>\n",
       "      <td>252.0</td>\n",
       "      <td>136.0</td>\n",
       "      <td>166.0</td>\n",
       "      <td>207.0</td>\n",
       "      <td>121.0</td>\n",
       "      <td>127.0</td>\n",
       "      <td>304.0</td>\n",
       "      <td>227.0</td>\n",
       "      <td>224.0</td>\n",
       "      <td>...</td>\n",
       "      <td>132.0</td>\n",
       "      <td>149.0</td>\n",
       "      <td>186.0</td>\n",
       "      <td>71.0</td>\n",
       "      <td>272.0</td>\n",
       "      <td>136.0</td>\n",
       "      <td>324.0</td>\n",
       "      <td>158.0</td>\n",
       "      <td>168.0</td>\n",
       "      <td>167.0</td>\n",
       "    </tr>\n",
       "    <tr>\n",
       "      <th>1</th>\n",
       "      <td>0.00</td>\n",
       "      <td>0.0</td>\n",
       "      <td>1.0</td>\n",
       "      <td>4.0</td>\n",
       "      <td>0.0</td>\n",
       "      <td>0.0</td>\n",
       "      <td>0.0</td>\n",
       "      <td>0.0</td>\n",
       "      <td>4.0</td>\n",
       "      <td>0.0</td>\n",
       "      <td>...</td>\n",
       "      <td>0.0</td>\n",
       "      <td>0.0</td>\n",
       "      <td>3.0</td>\n",
       "      <td>1.0</td>\n",
       "      <td>1.0</td>\n",
       "      <td>1.0</td>\n",
       "      <td>1.0</td>\n",
       "      <td>2.0</td>\n",
       "      <td>1.0</td>\n",
       "      <td>0.0</td>\n",
       "    </tr>\n",
       "    <tr>\n",
       "      <th>2</th>\n",
       "      <td>254.00</td>\n",
       "      <td>301.0</td>\n",
       "      <td>173.0</td>\n",
       "      <td>264.0</td>\n",
       "      <td>307.0</td>\n",
       "      <td>140.0</td>\n",
       "      <td>164.0</td>\n",
       "      <td>279.0</td>\n",
       "      <td>216.0</td>\n",
       "      <td>274.0</td>\n",
       "      <td>...</td>\n",
       "      <td>369.0</td>\n",
       "      <td>148.0</td>\n",
       "      <td>265.0</td>\n",
       "      <td>86.0</td>\n",
       "      <td>326.0</td>\n",
       "      <td>283.0</td>\n",
       "      <td>300.0</td>\n",
       "      <td>242.0</td>\n",
       "      <td>286.0</td>\n",
       "      <td>207.0</td>\n",
       "    </tr>\n",
       "    <tr>\n",
       "      <th>3</th>\n",
       "      <td>422.99</td>\n",
       "      <td>510.0</td>\n",
       "      <td>272.0</td>\n",
       "      <td>301.0</td>\n",
       "      <td>417.0</td>\n",
       "      <td>116.0</td>\n",
       "      <td>198.0</td>\n",
       "      <td>278.0</td>\n",
       "      <td>243.0</td>\n",
       "      <td>297.0</td>\n",
       "      <td>...</td>\n",
       "      <td>274.0</td>\n",
       "      <td>163.0</td>\n",
       "      <td>227.0</td>\n",
       "      <td>96.0</td>\n",
       "      <td>418.0</td>\n",
       "      <td>338.0</td>\n",
       "      <td>277.0</td>\n",
       "      <td>342.0</td>\n",
       "      <td>343.0</td>\n",
       "      <td>140.0</td>\n",
       "    </tr>\n",
       "    <tr>\n",
       "      <th>4</th>\n",
       "      <td>272.00</td>\n",
       "      <td>310.0</td>\n",
       "      <td>204.0</td>\n",
       "      <td>224.0</td>\n",
       "      <td>227.0</td>\n",
       "      <td>149.0</td>\n",
       "      <td>253.0</td>\n",
       "      <td>171.0</td>\n",
       "      <td>274.0</td>\n",
       "      <td>198.0</td>\n",
       "      <td>...</td>\n",
       "      <td>280.0</td>\n",
       "      <td>168.0</td>\n",
       "      <td>308.0</td>\n",
       "      <td>86.0</td>\n",
       "      <td>284.0</td>\n",
       "      <td>260.0</td>\n",
       "      <td>179.0</td>\n",
       "      <td>210.0</td>\n",
       "      <td>225.0</td>\n",
       "      <td>124.0</td>\n",
       "    </tr>\n",
       "  </tbody>\n",
       "</table>\n",
       "<p>5 rows × 453 columns</p>\n",
       "</div>"
      ],
      "text/plain": [
       "    100_2  101_3  102_2  103_3  104_2  105_2  106_4  107_4  109_1   11_4  ...   \n",
       "0  225.00  252.0  136.0  166.0  207.0  121.0  127.0  304.0  227.0  224.0  ...  \\\n",
       "1    0.00    0.0    1.0    4.0    0.0    0.0    0.0    0.0    4.0    0.0  ...   \n",
       "2  254.00  301.0  173.0  264.0  307.0  140.0  164.0  279.0  216.0  274.0  ...   \n",
       "3  422.99  510.0  272.0  301.0  417.0  116.0  198.0  278.0  243.0  297.0  ...   \n",
       "4  272.00  310.0  204.0  224.0  227.0  149.0  253.0  171.0  274.0  198.0  ...   \n",
       "\n",
       "    90_2   91_2   92_3  93_2   94_4   95_4   96_3   97_2   98_3   99_1  \n",
       "0  132.0  149.0  186.0  71.0  272.0  136.0  324.0  158.0  168.0  167.0  \n",
       "1    0.0    0.0    3.0   1.0    1.0    1.0    1.0    2.0    1.0    0.0  \n",
       "2  369.0  148.0  265.0  86.0  326.0  283.0  300.0  242.0  286.0  207.0  \n",
       "3  274.0  163.0  227.0  96.0  418.0  338.0  277.0  342.0  343.0  140.0  \n",
       "4  280.0  168.0  308.0  86.0  284.0  260.0  179.0  210.0  225.0  124.0  \n",
       "\n",
       "[5 rows x 453 columns]"
      ]
     },
     "execution_count": 6,
     "metadata": {},
     "output_type": "execute_result"
    }
   ],
   "source": [
    "# remove name and description in matrix\n",
    "gct_name = gct_full[['NAME']]\n",
    "gct_desc = gct_full[['Description']]\n",
    "gct_data = gct_full.drop(columns=['NAME','Description'])\n",
    "gct_data.head()"
   ]
  },
  {
   "cell_type": "code",
   "execution_count": 8,
   "id": "a4981822",
   "metadata": {},
   "outputs": [
    {
     "name": "stdout",
     "output_type": "stream",
     "text": [
      "(45297, 453)\n"
     ]
    }
   ],
   "source": [
    "zeroGenes = (gct_data.iloc[:, :] == 0).all(axis=1)\n",
    "filteredData = gct_data.loc[~zeroGenes, :]\n",
    "print(filteredData.shape)"
   ]
  },
  {
   "cell_type": "code",
   "execution_count": 10,
   "id": "da46a03b",
   "metadata": {},
   "outputs": [
    {
     "name": "stdout",
     "output_type": "stream",
     "text": [
      "<class 'pandas.core.frame.DataFrame'>\n",
      "Index: 45297 entries, 0 to 58049\n",
      "Columns: 453 entries, 100_2 to 99_1\n",
      "dtypes: float64(453)\n",
      "memory usage: 156.9 MB\n"
     ]
    }
   ],
   "source": [
    "filteredData.info()\n",
    "# have all 453 patient samples\n",
    "# 58051 different genes, columns"
   ]
  },
  {
   "cell_type": "code",
   "execution_count": 11,
   "id": "4eb57cba",
   "metadata": {},
   "outputs": [
    {
     "name": "stdout",
     "output_type": "stream",
     "text": [
      "        0         1         2         3         4         5         6     \n",
      "0 -0.044295 -0.033688 -0.040543 -0.056461 -0.043398 -0.068067 -0.044897  \\\n",
      "1 -0.119445 -0.128301 -0.117623 -0.147056 -0.126540 -0.130236 -0.119522   \n",
      "2 -0.034609 -0.015291 -0.019418 -0.001656 -0.003233 -0.058305 -0.023156   \n",
      "3  0.021834  0.063178  0.037107  0.019036  0.040949 -0.070636 -0.003178   \n",
      "4 -0.028597 -0.011912 -0.001718 -0.024025 -0.035365 -0.053681  0.029140   \n",
      "\n",
      "        7         8         9    ...       443       444       445       446   \n",
      "0  0.024967 -0.006816  0.002178  ... -0.069406 -0.021737 -0.028900 -0.043769  \\\n",
      "1 -0.109301 -0.108825 -0.110531  ... -0.142431 -0.111704 -0.136727 -0.129856   \n",
      "2  0.013925 -0.011848  0.027336  ...  0.061706 -0.022341  0.017648 -0.025322   \n",
      "3  0.013483  0.000503  0.038909  ...  0.009150 -0.013283 -0.004742 -0.013024   \n",
      "4 -0.033776  0.014684 -0.010904  ...  0.012470 -0.010264  0.042984 -0.025322   \n",
      "\n",
      "        447       448       449       450       451       452  \n",
      "0  0.004312 -0.046244  0.043508 -0.054795 -0.048834 -0.032220  \n",
      "1 -0.127567 -0.123638 -0.107191 -0.123838 -0.132350 -0.123819  \n",
      "2  0.030591  0.038030  0.032311 -0.017619  0.010178 -0.010281  \n",
      "3  0.075362  0.069561  0.021580  0.026639  0.038683 -0.047030  \n",
      "4  0.010152  0.024844 -0.024143 -0.031781 -0.020328 -0.055806  \n",
      "\n",
      "[5 rows x 453 columns]\n",
      "mean:  0     -3.764714e-18\n",
      "1     -1.756867e-17\n",
      "2      1.254905e-18\n",
      "3      2.760790e-17\n",
      "4     -1.505886e-17\n",
      "           ...     \n",
      "448    3.388243e-17\n",
      "449   -2.509809e-18\n",
      "450    5.019619e-18\n",
      "451   -1.254905e-17\n",
      "452    1.003924e-17\n",
      "Length: 453, dtype: float64\n",
      "std:  0      1.000011\n",
      "1      1.000011\n",
      "2      1.000011\n",
      "3      1.000011\n",
      "4      1.000011\n",
      "         ...   \n",
      "448    1.000011\n",
      "449    1.000011\n",
      "450    1.000011\n",
      "451    1.000011\n",
      "452    1.000011\n",
      "Length: 453, dtype: float64\n"
     ]
    }
   ],
   "source": [
    "# need to normalize/scale the data in order to avoud biases with varaibles of larger magnitude\n",
    "from sklearn.preprocessing import StandardScaler\n",
    "scaler = StandardScaler()\n",
    "scaler.fit(filteredData)\n",
    "gct_scaled = scaler.transform(filteredData)\n",
    "gct_scaled = pd.DataFrame(gct_scaled)\n",
    "print(gct_scaled.head())\n",
    "print('mean: ',gct_scaled.mean(axis=0))\n",
    "print('std: ',gct_scaled.std(axis=0))"
   ]
  },
  {
   "cell_type": "code",
   "execution_count": 12,
   "id": "2f65b917",
   "metadata": {},
   "outputs": [
    {
     "data": {
      "text/plain": [
       "<matplotlib.lines.Line2D at 0x271bfc17e50>"
      ]
     },
     "execution_count": 12,
     "metadata": {},
     "output_type": "execute_result"
    },
    {
     "data": {
      "image/png": "[encoded data removed]",
      "text/plain": [
       "<Figure size 1200x700 with 1 Axes>"
      ]
     },
     "metadata": {},
     "output_type": "display_data"
    }
   ],
   "source": [
    "import scipy.cluster.hierarchy as shc\n",
    "plt.figure(figsize=(12, 7))  \n",
    "plt.title(\"Dendrograms\")  \n",
    "dend = shc.dendrogram(shc.linkage(gct_scaled, method='complete'))\n",
    "# x-axis contains the genes\n",
    "# y-axis contains the distances between these genes"
   ]
  },
  {
   "cell_type": "code",
   "execution_count": 14,
   "id": "d6ab7248",
   "metadata": {},
   "outputs": [
    {
     "data": {
      "image/png": "[encoded data removed]",
      "text/plain": [
       "<Figure size 1200x700 with 1 Axes>"
      ]
     },
     "metadata": {},
     "output_type": "display_data"
    }
   ],
   "source": [
    "plt.figure(figsize=(12, 7))  \n",
    "plt.title(\"Dendrograms\")  \n",
    "# Ward linkage minimizes the variance between clusters\n",
    "dend = shc.dendrogram(shc.linkage(gct_scaled, method='ward'))"
   ]
  },
  {
   "attachments": {},
   "cell_type": "markdown",
   "id": "5522b7c9",
   "metadata": {},
   "source": [
    "End here?? Don't think the rest is really necessary, not sure what plotting the cluster labels adds since it's only plotting the first two genes and \n",
    "can't really visualise a 45000 dimension space"
   ]
  },
  {
   "cell_type": "code",
   "execution_count": null,
   "id": "bc56b2a4",
   "metadata": {},
   "outputs": [],
   "source": [
    "# largest cluster difference can be decided at distance - 0.6, this resulted in 4 clusters\n",
    "# we will now perform agglomerative clustering with cluster size = 4\n",
    "from sklearn.cluster import AgglomerativeClustering\n",
    "# number of clusters = 4\n",
    "# metric = this is chosen by calculating the euclidean distance of the center of the cluster\n",
    "# linkage methods: Ward minimizes the variance between clusters\n",
    "cluster = AgglomerativeClustering(n_clusters=4, metric='euclidean', linkage='complete')  \n",
    "clst_assignments = cluster.fit_predict(gct_scaled)\n",
    "clst_assignments\n",
    "# we now have an array of cluster assignments for each sample\n",
    "# we can now plot the using this array\n",
    "\n",
    "# my questions:\n",
    "#     What do these clst_assignments tell us? Likelihood for disease?\n",
    "#     Do we need 4 clst assignmets?\n",
    "#     Should we remove data that is not informative?\n"
   ]
  },
  {
   "cell_type": "code",
   "execution_count": null,
   "id": "5b432ea7",
   "metadata": {},
   "outputs": [],
   "source": [
    "plt.figure(figsize=(10, 7))  \n",
    "plt.scatter(gct_scaled[0], gct_scaled[1], c=cluster.labels_) "
   ]
  },
  {
   "cell_type": "code",
   "execution_count": null,
   "id": "00e0d954",
   "metadata": {},
   "outputs": [],
   "source": [
    "# largest cluster difference can be decided at distance - 0.6, this resulted in 4 clusters\n",
    "# we will now perform agglomerative clustering with cluster size = 4\n",
    "from sklearn.cluster import AgglomerativeClustering\n",
    "# number of clusters = 4\n",
    "# metric = this is chosen by calculating the euclidean distance of the center of the cluster\n",
    "# linkage methods: Ward minimizes the variance between clusters\n",
    "cluster_two = AgglomerativeClustering(n_clusters=2, metric='euclidean', linkage='complete')  \n",
    "clst_assignments_no_scale = cluster_two.fit_predict(gct_data_T)\n",
    "clst_assignments_no_scale\n",
    "# we now have an array of cluster assignments for each sample\n",
    "# we can now plot the using this array\n",
    "# \"\"\"\n",
    "# This is the data without normalizing it, we get two clusters which could be our diseased vs healthy\n",
    "# \"\"\""
   ]
  }
 ],
 "metadata": {
  "kernelspec": {
   "display_name": "Python 3 (ipykernel)",
   "language": "python",
   "name": "python3"
  },
  "language_info": {
   "codemirror_mode": {
    "name": "ipython",
    "version": 3
   },
   "file_extension": ".py",
   "mimetype": "text/x-python",
   "name": "python",
   "nbconvert_exporter": "python",
   "pygments_lexer": "ipython3",
   "version": "3.9.16"
  }
 },
 "nbformat": 4,
 "nbformat_minor": 5
}

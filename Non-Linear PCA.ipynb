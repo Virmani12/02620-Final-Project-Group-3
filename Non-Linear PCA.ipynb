{
 "cells": [
  {
   "cell_type": "code",
   "execution_count": 1,
   "id": "286f6b1a",
   "metadata": {},
   "outputs": [],
   "source": [
    "import numpy as np\n",
    "import matplotlib.pyplot as plt\n",
    "import pandas as pd\n",
    "from sklearn.model_selection import train_test_split\n",
    "from sklearn.preprocessing import StandardScaler\n",
    "from sklearn.decomposition import KernelPCA\n",
    "from sklearn.linear_model import LogisticRegression\n",
    "from matplotlib.colors import ListedColormap\n",
    "from sklearn.metrics import confusion_matrix, accuracy_score"
   ]
  },
  {
   "cell_type": "code",
   "execution_count": 2,
   "id": "abd40214",
   "metadata": {},
   "outputs": [],
   "source": [
    "################\n",
    "# NON-LINEAR PCA\n",
    "# (Recommended by Parker during our presentation)\n",
    "# STEPS: Run each cell individually to produce the PCA plot and get the accuracy score\n",
    "# Non-linear pca doesn't produce great results (similarly to PCA)\n",
    "################"
   ]
  },
  {
   "cell_type": "code",
   "execution_count": 3,
   "id": "2343fdba",
   "metadata": {},
   "outputs": [],
   "source": [
    "#Load all datasets\n",
    "meta = pd.read_csv(\"EyeGEx_meta_combined_inferior_retina_summary_deidentified_geo_ids.csv\")\n",
    "gct = pd.read_table(\"EyeGEx_retina_combined_genelevel_expectedcounts_byrid_nooutlier.tpm.matrix.gct\", header=2, delim_whitespace=True)\n",
    "tsv = pd.read_csv(\"EyeGEx_retina_combined_genelevel_expectedcounts_byrid_nooutliers.counts.matrix.tsv\", sep='\\t')\n",
    "controls = pd.read_csv(\"Retina.3009_ssva_controls.txt\",header=None)"
   ]
  },
  {
   "cell_type": "code",
   "execution_count": 4,
   "id": "e14bb3cd",
   "metadata": {},
   "outputs": [],
   "source": [
    "#Testing out PCA with significant genes from the paper itself (Supplementary Table 1)\n",
    "known_genes = [\"B3GLCT\",\n",
    "              \"BLOC1S1\",\n",
    "               \"RP11-644F5.10\",\n",
    "               \"CTA-228A9.3\",\n",
    "               \"SH2B3\",\n",
    "              \"MEPCE\",\n",
    "              \"PMS2P1\",\n",
    "               \"STAG3L5P-PVRIG2P-PILRB\",\n",
    "              \"PILRB\",\n",
    "              \"TMEM199\",\n",
    "              \"POLDIP2\",\n",
    "              \"CFI\",\n",
    "              \"PLA2G12A\",\n",
    "              \"ANAPC11\",\n",
    "              \"SKIV2L\",\n",
    "              \"HERPUD1\",\n",
    "              \"TOMM70\",\n",
    "              \"KCNT2\",\n",
    "              \"TMEM229B\",\n",
    "              \"PLTP\"]"
   ]
  },
  {
   "cell_type": "code",
   "execution_count": 5,
   "id": "4a4e3015",
   "metadata": {},
   "outputs": [],
   "source": [
    "#Filtering out all of the important genes\n",
    "gct_known = gct[gct[\"Description\"].isin(known_genes)]"
   ]
  },
  {
   "cell_type": "code",
   "execution_count": 6,
   "id": "0ac0744f",
   "metadata": {},
   "outputs": [],
   "source": [
    "#removing metadata and converting into numpy array for implementation\n",
    "data = gct_known\n",
    "data = data.T\n",
    "data.columns=data.iloc[1]\n",
    "data = data.drop(['NAME','Description'], axis=0)\n",
    "data = data.reset_index()\n",
    "data = data.rename(columns = {'index': 'r_id'})"
   ]
  },
  {
   "cell_type": "code",
   "execution_count": 7,
   "id": "2f41ad40",
   "metadata": {},
   "outputs": [],
   "source": [
    "#get mgs levels for each sample for the filtered genes\n",
    "#data_df = pd.DataFrame(data)\n",
    "ids = list(gct.columns)\n",
    "ids.remove('NAME')\n",
    "ids.remove('Description')\n",
    "data=pd.merge(data, meta[[\"r_id\",\"mgs_level\"]], how=\"left\", on=\"r_id\")\n",
    "mgs = data[\"mgs_level\"]"
   ]
  },
  {
   "cell_type": "code",
   "execution_count": 8,
   "id": "a99a2c07",
   "metadata": {},
   "outputs": [],
   "source": [
    "#Getting the features (genes) and the output values (mgs level)\n",
    "X_feat = data.iloc[:,1:-1].values\n",
    "y_target = data.iloc[:, -1].values"
   ]
  },
  {
   "cell_type": "code",
   "execution_count": 9,
   "id": "0b4077f6",
   "metadata": {},
   "outputs": [],
   "source": [
    "#Splitting the data into train and test sets using scipy train_test_split\n",
    "XTrain, XTest, YTrain, YTest = train_test_split(X_feat, y_target, test_size = 0.2, random_state=0)"
   ]
  },
  {
   "cell_type": "code",
   "execution_count": 10,
   "id": "fb145a8f",
   "metadata": {},
   "outputs": [],
   "source": [
    "#Mean-centering the train and test data\n",
    "stndS = StandardScaler()\n",
    "XTrain = stndS.fit_transform(XTrain)\n",
    "XTest = stndS.transform(XTest)"
   ]
  },
  {
   "cell_type": "code",
   "execution_count": 11,
   "id": "9408f342",
   "metadata": {},
   "outputs": [],
   "source": [
    "#Running KernelPCA using the 'rbf' kernel\n",
    "kernel_pca = KernelPCA(n_components=2, kernel= \"rbf\")\n",
    "\n",
    "XTrain = kernel_pca.fit_transform(XTrain)\n",
    "\n",
    "XTest = kernel_pca.transform(XTest)"
   ]
  },
  {
   "cell_type": "code",
   "execution_count": 12,
   "id": "30ee873d",
   "metadata": {},
   "outputs": [
    {
     "data": {
      "text/plain": [
       "LogisticRegression(random_state=0)"
      ]
     },
     "execution_count": 12,
     "metadata": {},
     "output_type": "execute_result"
    }
   ],
   "source": [
    "#Creating a logistic regression classifier and fitting it to the training data\n",
    "\n",
    "classifier = LogisticRegression(random_state=0)\n",
    "classifier.fit(XTrain,YTrain)"
   ]
  },
  {
   "cell_type": "code",
   "execution_count": 13,
   "id": "18c68a54",
   "metadata": {},
   "outputs": [],
   "source": [
    "#Returning the predicted classes on the test data\n",
    "Yprd = classifier.predict(XTest)"
   ]
  },
  {
   "cell_type": "code",
   "execution_count": 14,
   "id": "735e34a4",
   "metadata": {},
   "outputs": [
    {
     "name": "stdout",
     "output_type": "stream",
     "text": [
      "[[ 0 16  4  0]\n",
      " [ 0 29  1  0]\n",
      " [ 0 22  2  0]\n",
      " [ 0 14  3  0]]\n"
     ]
    }
   ],
   "source": [
    "#Printing the confusion matrix\n",
    "confusion = confusion_matrix(YTest, Yprd)\n",
    "print(confusion)"
   ]
  },
  {
   "cell_type": "code",
   "execution_count": 15,
   "id": "3630476d",
   "metadata": {},
   "outputs": [
    {
     "data": {
      "text/plain": [
       "0.34065934065934067"
      ]
     },
     "execution_count": 15,
     "metadata": {},
     "output_type": "execute_result"
    }
   ],
   "source": [
    "#Getting the accuracy\n",
    "accuracy_score(YTest, Yprd)"
   ]
  },
  {
   "cell_type": "code",
   "execution_count": 16,
   "id": "92326fff",
   "metadata": {},
   "outputs": [],
   "source": [
    "#Variables for graphing\n",
    "Xset,Yset = XTrain,YTrain"
   ]
  },
  {
   "cell_type": "code",
   "execution_count": 17,
   "id": "cdbe3c8a",
   "metadata": {},
   "outputs": [
    {
     "name": "stderr",
     "output_type": "stream",
     "text": [
      "*c* argument looks like a single numeric RGB or RGBA sequence, which should be avoided as value-mapping will have precedence in case its length matches with *x* & *y*.  Please use the *color* keyword-argument or provide a 2D array with a single row if you intend to specify the same RGB or RGBA value for all points.\n",
      "*c* argument looks like a single numeric RGB or RGBA sequence, which should be avoided as value-mapping will have precedence in case its length matches with *x* & *y*.  Please use the *color* keyword-argument or provide a 2D array with a single row if you intend to specify the same RGB or RGBA value for all points.\n",
      "*c* argument looks like a single numeric RGB or RGBA sequence, which should be avoided as value-mapping will have precedence in case its length matches with *x* & *y*.  Please use the *color* keyword-argument or provide a 2D array with a single row if you intend to specify the same RGB or RGBA value for all points.\n",
      "*c* argument looks like a single numeric RGB or RGBA sequence, which should be avoided as value-mapping will have precedence in case its length matches with *x* & *y*.  Please use the *color* keyword-argument or provide a 2D array with a single row if you intend to specify the same RGB or RGBA value for all points.\n"
     ]
    },
    {
     "data": {
      "image/png": "[encoded data removed]",
      "text/plain": [
       "<Figure size 432x288 with 1 Axes>"
      ]
     },
     "metadata": {
      "needs_background": "light"
     },
     "output_type": "display_data"
    }
   ],
   "source": [
    "#Plotting the graph using \n",
    "\n",
    "for i,j in enumerate(np.unique(Yset)):\n",
    "    plt.scatter(Xset[Yset == j, 0], Xset[Yset == j, 1],\n",
    "               c = ListedColormap(('red','green','blue','orange'))(i), label=j)\n",
    "\n",
    "plt.xlabel(\"PC1\")\n",
    "plt.ylabel(\"PC2\")\n",
    "plt.legend()\n",
    "plt.show()"
   ]
  },
  {
   "cell_type": "code",
   "execution_count": null,
   "id": "6da26918",
   "metadata": {},
   "outputs": [],
   "source": []
  }
 ],
 "metadata": {
  "kernelspec": {
   "display_name": "Python 3 (ipykernel)",
   "language": "python",
   "name": "python3"
  },
  "language_info": {
   "codemirror_mode": {
    "name": "ipython",
    "version": 3
   },
   "file_extension": ".py",
   "mimetype": "text/x-python",
   "name": "python",
   "nbconvert_exporter": "python",
   "pygments_lexer": "ipython3",
   "version": "3.9.12"
  }
 },
 "nbformat": 4,
 "nbformat_minor": 5
}
